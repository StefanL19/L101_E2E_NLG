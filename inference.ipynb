{
 "cells": [
  {
   "cell_type": "code",
   "execution_count": 1,
   "metadata": {},
   "outputs": [],
   "source": [
    "import os\n",
    "from argparse import Namespace\n",
    "from collections import Counter\n",
    "import json\n",
    "import re\n",
    "import string\n",
    "\n",
    "import numpy as np\n",
    "import pandas as pd\n",
    "import torch\n",
    "import torch.nn as nn\n",
    "from torch.nn import functional as F\n",
    "from torch.nn.utils.rnn import pack_padded_sequence, pad_packed_sequence\n",
    "import torch.optim as optim\n",
    "from torch.utils.data import Dataset, DataLoader\n",
    "from tqdm import tqdm_notebook\n",
    "from math import log"
   ]
  },
  {
   "cell_type": "code",
   "execution_count": 2,
   "metadata": {},
   "outputs": [],
   "source": [
    "from nltk.translate import bleu_score\n",
    "import seaborn as sns\n",
    "import matplotlib.pyplot as plt\n",
    "from alignment_utils import tokenize_mr, tokenize_mr_upper\n",
    "from data_processing import Delexicalizer\n",
    "\n",
    "delexicalizer = Delexicalizer(\"partial\", [\"name\", \"near\", \"food\"])\n",
    "\n",
    "chencherry = bleu_score.SmoothingFunction()"
   ]
  },
  {
   "cell_type": "code",
   "execution_count": 3,
   "metadata": {},
   "outputs": [],
   "source": [
    "def beam_search_decoder(data, k):\n",
    "\tsequences = [[list(), 1.0]]\n",
    "\t# walk over each step in sequence\n",
    "\tfor row in data:\n",
    "\t\tall_candidates = list()\n",
    "\t\t# expand each current candidate\n",
    "\t\tfor i in range(len(sequences)):\n",
    "\t\t\tseq, score = sequences[i]\n",
    "\t\t\tfor j in range(len(row)):\n",
    "\t\t\t\tcandidate = [seq + [j], score * -log(row[j])]\n",
    "\t\t\t\tall_candidates.append(candidate)\n",
    "\t\t# order all candidates by score\n",
    "\t\tordered = sorted(all_candidates, key=lambda tup:tup[1])\n",
    "\t\t# select k best\n",
    "\t\tsequences = ordered[:k]\n",
    "\treturn sequences"
   ]
  },
  {
   "cell_type": "code",
   "execution_count": 4,
   "metadata": {},
   "outputs": [],
   "source": [
    "def sentence_from_indices(indices, vocab, strict=True, return_string=True):\n",
    "    ignore_indices = set([vocab.mask_index, vocab.begin_seq_index, vocab.end_seq_index])\n",
    "    out = []\n",
    "    for index in indices:\n",
    "        if index == vocab.begin_seq_index and strict:\n",
    "            continue\n",
    "        elif index == vocab.end_seq_index and strict:\n",
    "            break\n",
    "        else:\n",
    "            out.append(vocab.lookup_index(index))\n",
    "    if return_string:\n",
    "        return \" \".join(out)\n",
    "    else:\n",
    "        return out\n",
    "    \n",
    "class NMTSampler:\n",
    "    def __init__(self, vectorizer, model):\n",
    "        self.vectorizer = vectorizer\n",
    "        self.model = model\n",
    "    \n",
    "    def apply_to_batch(self, batch_dict):\n",
    "        self._last_batch = batch_dict\n",
    "        \n",
    "        y_pred = self.model(x_source=batch_dict['x_source'], \n",
    "                            x_source_lengths=batch_dict['x_source_length'], \n",
    "                            # To fix the sampling probability to 0\n",
    "                            target_sequence=batch_dict['x_target'],\n",
    "                            sample_probability=1.0)\n",
    "        print(y_pred.shape)\n",
    "        self._last_batch['y_pred'] = y_pred\n",
    "        attention_batched = np.stack(self.model.decoder._cached_p_attn).transpose(1, 0, 2)\n",
    "        self._last_batch['attention'] = attention_batched\n",
    "        \n",
    "    def _get_source_sentence(self, index, return_string=True):\n",
    "        indices = self._last_batch['x_source'][index].cpu().detach().numpy()\n",
    "        vocab = self.vectorizer.source_vocab\n",
    "        return sentence_from_indices(indices, vocab, return_string=return_string)\n",
    "    \n",
    "    def _get_reference_sentence(self, index, return_string=True):\n",
    "        indices = self._last_batch['y_target'][index].cpu().detach().numpy()\n",
    "        vocab = self.vectorizer.target_vocab\n",
    "        return sentence_from_indices(indices, vocab, return_string=return_string)\n",
    "    \n",
    "    def _get_gt_mrs(self, index):\n",
    "        inp_mr = self._last_batch['inp_gt'][index]\n",
    "        return inp_mr\n",
    "    \n",
    "    def _get_gt_ref(self, index):\n",
    "        ref_gt = self._last_batch['ref_gt'][index]\n",
    "        return ref_gt\n",
    "    \n",
    "    def _get_reranker_result(self, index):\n",
    "        pass\n",
    "    \n",
    "    def _get_sampled_sentence(self, index, return_string=True):\n",
    "        prob_res = torch.nn.functional.softmax(self._last_batch['y_pred'], dim=2)\n",
    "        sentece_probs = prob_res[index].cpu().detach().numpy()\n",
    "        \n",
    "        top_sequences = beam_search_decoder(sentece_probs, 3)\n",
    "        \n",
    "        sentence_indices = top_sequences[0][0]\n",
    "        print(\"Making a prediction {}\".format(index))\n",
    "        \n",
    "        #Old code\n",
    "#         # Here the beam search and the reranker should be included\n",
    "#         prob_res = torch.nn.functional.softmax(self._last_batch['y_pred'], dim=2)\n",
    "        \n",
    "#         # Maximize the results, so the indices are applied\n",
    "#         #_, all_indices = torch.max(self._last_batch['y_pred'], dim=2)\n",
    "        \n",
    "#         #Use softmax before maximization\n",
    "#         _, all_indices = torch.max(prob_res, dim=2)\n",
    "\n",
    "#         sentence_indices = all_indices[index].cpu().detach().numpy()\n",
    "        vocab = self.vectorizer.target_vocab\n",
    "        return sentence_from_indices(sentence_indices, vocab, return_string=return_string)\n",
    "\n",
    "    def get_ith_item(self, index, return_string=True):\n",
    "        sampled_sentence = self._get_sampled_sentence(index, return_string=return_string)\n",
    "        gt_mrs = self._get_gt_mrs(index)\n",
    "        ref_gt = self._get_gt_ref(index)\n",
    "        \n",
    "        sampled_normalized = delexicalizer.reverse_delexicalize_sample(gt_mrs, \" \".join(sampled_sentence))\n",
    "        \n",
    "        output = {\"source\": self._get_source_sentence(index, return_string=return_string), \n",
    "                  \"reference\": self._get_reference_sentence(index, return_string=return_string), \n",
    "                  \"sampled\": sampled_sentence,\n",
    "                  \"attention\": self._last_batch['attention'][index],\n",
    "                  \"sampled_normalized\":sampled_normalized,\n",
    "                  \"reference_gt\":ref_gt,\n",
    "                  \"mrs_gt\":gt_mrs,\n",
    "                  \"y_target\": self._last_batch['y_target'][index]\n",
    "                 }\n",
    "        \n",
    "        reference = output['reference']\n",
    "        hypothesis = output['sampled']\n",
    "        \n",
    "        if not return_string:\n",
    "            reference = \" \".join(reference)\n",
    "            hypothesis = \" \".join(hypothesis)\n",
    "        \n",
    "        output['bleu-4'] = bleu_score.sentence_bleu(references=[reference],\n",
    "                                                    hypothesis=hypothesis,\n",
    "                                                    smoothing_function=chencherry.method1)\n",
    "        \n",
    "        return output"
   ]
  },
  {
   "cell_type": "code",
   "execution_count": 5,
   "metadata": {},
   "outputs": [],
   "source": [
    "args = Namespace(dataset_csv=\"data/inp_and_gt.csv\",\n",
    "                 vectorizer_file=\"vectorizer.json\",\n",
    "                 model_state_file=\"model.pth\",\n",
    "                 save_dir=\"data/model_storage/\",\n",
    "                 reload_from_files=False,\n",
    "                 expand_filepaths_to_save_dir=True,\n",
    "                 cuda=True,\n",
    "                 seed=1337,\n",
    "                 learning_rate=5e-4,\n",
    "                 batch_size=32,\n",
    "                 num_epochs=100,\n",
    "                 early_stopping_criteria=5,              \n",
    "                 source_embedding_size=24, \n",
    "                 target_embedding_size=24,\n",
    "                 encoding_size=32,\n",
    "                 catch_keyboard_interrupt=True)"
   ]
  },
  {
   "cell_type": "code",
   "execution_count": 6,
   "metadata": {},
   "outputs": [
    {
     "name": "stdout",
     "output_type": "stream",
     "text": [
      "['name[Alimentum], area[city centre], familyFriendly[no]', 'name[Alimentum], area[city centre], familyFriendly[no]', 'name[Alimentum], area[city centre], familyFriendly[no]', 'name[Alimentum], area[city centre], familyFriendly[no]', 'name[Alimentum], area[city centre], familyFriendly[no]', 'name[Alimentum], area[city centre], familyFriendly[no]', 'name[Alimentum], area[city centre], familyFriendly[no], near[Burger King]', 'name[Alimentum], area[city centre], familyFriendly[no], near[Burger King]', 'name[Alimentum], area[city centre], familyFriendly[no], near[Burger King]', 'name[Alimentum], area[city centre], familyFriendly[no], near[Burger King]', 'name[Alimentum], area[city centre], familyFriendly[no], near[Burger King]', 'name[Alimentum], area[city centre], familyFriendly[no], near[Burger King]', 'name[Alimentum], area[city centre], familyFriendly[yes]', 'name[Alimentum], area[city centre], familyFriendly[yes]', 'name[Alimentum], area[city centre], familyFriendly[yes]', 'name[Alimentum], area[city centre], familyFriendly[yes]', 'name[Alimentum], area[city centre], familyFriendly[yes]', 'name[Alimentum], area[city centre], familyFriendly[yes]', 'name[Alimentum], area[city centre], familyFriendly[yes], near[Burger King]', 'name[Alimentum], area[city centre], familyFriendly[yes], near[Burger King]', 'name[Alimentum], area[city centre], familyFriendly[yes], near[Burger King]', 'name[Alimentum], area[city centre], familyFriendly[yes], near[Burger King]', 'name[Alimentum], area[city centre], familyFriendly[yes], near[Burger King]', 'name[Alimentum], area[city centre], familyFriendly[yes], near[Burger King]', 'name[Alimentum], area[riverside], familyFriendly[no]', 'name[Alimentum], area[riverside], familyFriendly[no]', 'name[Alimentum], area[riverside], familyFriendly[no]', 'name[Alimentum], area[riverside], familyFriendly[no]', 'name[Alimentum], area[riverside], familyFriendly[no]', 'name[Alimentum], area[riverside], familyFriendly[no]', 'name[Alimentum], area[riverside], familyFriendly[no]', 'name[Alimentum], area[riverside], familyFriendly[no]']\n",
      "['There is a place in the city centre , Alimentum , that is not family-friendly . ', 'In the city centre there is a venue name Alimentum , this is not a family-friendly venue . ', 'Alimentum is not a family-friendly place , located in city centre . ', 'Alimentum is not a family-friendly arena and is located in the city centre . ', 'Alimentum is not a family-friendly place in the city centre . ', 'Alimentum in city centre is not a family-friendly place . ', 'Alimentum is not family-friendly , and is near the Burger King in the city centre . ', 'Near Burger King in city centre is the adult establishment Alimentum . ', 'Alimentum is not family-friendly . Alimentum is in the city center and it is near Burger King . ', 'Alimentum is near Burger King in the city center . Alimentum is not family-friendly . ', 'Near the Burger King and in the city centre is Alimentum , which is not family-friendly . ', 'Alimentum is an adult establish found in the city centre area near Burger King . ', 'Alimentum is a family-friendly place in the city centre . ', 'In the city centre there is a family-friendly place called Alimentum . ', 'The city centre has a family-friendly restaurant named Alimentum . ', 'Alimentum city centre is family-friendly', 'Alimentum is a family-friendly city centre . ', 'There is a family-friendly restaurant named Alimentum in the city centre . ', 'Alimentum is family oriented and located near Burger King in the city centre . ', 'The Alimentum is a family-friendly restaurant located in the city centre near Burger King . ', 'Located in the city centre near Burger King , the Alimentum is a family-friendly restaurant . ', 'Alimentum , located near Burger King in the city centre , is family-friendly . ', 'Located Burger King in the city centre , Alimentum is family-friendly . ', 'Alimentum is family-friendly and located in the city centre near Burger King . ', \"Alimentum looks like a location where people or families aren't allowed\", \"Alimentum isn't family-friendly but it is in riverside . \", \"If you are searching for a place to go that's not family-friendly and near the riverside , Alimentum is the place for you . \", 'Alimentum is a family-friendly living in riverside . ', 'Alimentum is a family-friendly living in riverside . ', 'Alimentum , located on the river . No good for families . ', 'Riverside has Alimentum , which is not family-friendly . ', 'Alimentum is a not family-friendly place near the riverside . ']\n",
      "torch.Size([32, 74, 2894])\n"
     ]
    }
   ],
   "source": [
    "from encoders import NMTEncoder\n",
    "from decoders import NMTDecoder\n",
    "from data_loader import NMTDataset, generate_nmt_batches\n",
    "from models import NMTModel\n",
    "# Check CUDA\n",
    "if not torch.cuda.is_available():\n",
    "    args.cuda = False\n",
    "\n",
    "args.device = torch.device(\"cuda\" if args.cuda else \"cpu\")\n",
    "\n",
    "dataset = NMTDataset.load_dataset_and_load_vectorizer(\"data/inp_and_gt.csv\",\n",
    "                                                          \"data/model_storage/vectorizer.json\")\n",
    "vectorizer = dataset.get_vectorizer()\n",
    "model = NMTModel(source_vocab_size=len(vectorizer.source_vocab), \n",
    "                 source_embedding_size=args.source_embedding_size, \n",
    "                 target_vocab_size=len(vectorizer.target_vocab),\n",
    "                 target_embedding_size=args.target_embedding_size, \n",
    "                 encoding_size=args.encoding_size,\n",
    "                 target_bos_index=vectorizer.target_vocab.begin_seq_index)\n",
    "\n",
    "model.load_state_dict(torch.load(args.save_dir+args.model_state_file))\n",
    "model.eval().to(args.device)\n",
    "\n",
    "sampler = NMTSampler(vectorizer, model)\n",
    "\n",
    "dataset.set_split('val')\n",
    "\n",
    "batch_generator = generate_nmt_batches(dataset, \n",
    "                                       batch_size=args.batch_size, \n",
    "                                       device=args.device,\n",
    "                                       shuffle=False)\n",
    "\n",
    "#Contains the samples for the current batch\n",
    "batch_dict = next(batch_generator)\n",
    "\n",
    "model = model.eval().to(args.device)\n",
    "sampler = NMTSampler(vectorizer, model)\n",
    "\n",
    "# Apply the sampler to the batch\n",
    "sampler.apply_to_batch(batch_dict)"
   ]
  },
  {
   "cell_type": "code",
   "execution_count": 7,
   "metadata": {},
   "outputs": [
    {
     "name": "stdout",
     "output_type": "stream",
     "text": [
      "Making a prediction 0\n",
      "Making a prediction 1\n",
      "Making a prediction 2\n"
     ]
    }
   ],
   "source": [
    "all_results = []\n",
    "#args.batch_size\n",
    "for i in range(3):\n",
    "    all_results.append(sampler.get_ith_item(i, False))"
   ]
  },
  {
   "cell_type": "code",
   "execution_count": 16,
   "metadata": {},
   "outputs": [
    {
     "data": {
      "text/plain": [
       "2894"
      ]
     },
     "execution_count": 16,
     "metadata": {},
     "output_type": "execute_result"
    }
   ],
   "source": [
    "len(all_results)\n",
    "len(vectorizer.target_vocab)"
   ]
  },
  {
   "cell_type": "code",
   "execution_count": 23,
   "metadata": {},
   "outputs": [],
   "source": [
    "top_results = [x for x in all_results if x['bleu-4']>0.5]"
   ]
  },
  {
   "cell_type": "code",
   "execution_count": 24,
   "metadata": {
    "scrolled": false
   },
   "outputs": [
    {
     "data": {
      "image/png": "[encoded data removed]",
      "text/plain": [
       "<Figure size 432x288 with 2 Axes>"
      ]
     },
     "metadata": {
      "needs_background": "light"
     },
     "output_type": "display_data"
    },
    {
     "data": {
      "image/png": "[encoded data removed]",
      "text/plain": [
       "<Figure size 432x288 with 2 Axes>"
      ]
     },
     "metadata": {
      "needs_background": "light"
     },
     "output_type": "display_data"
    }
   ],
   "source": [
    "for sample in top_results:\n",
    "    plt.figure()\n",
    "    target_len = len(sample['sampled'])\n",
    "    source_len = len(sample['source'])\n",
    "\n",
    "    attention_matrix = sample['attention'][:target_len, :source_len+2].transpose()#[::-1]\n",
    "    ax = sns.heatmap(attention_matrix, center=0.0)\n",
    "    ylabs = [\"<BOS>\"]+sample['source']+[\"<EOS>\"]\n",
    "    #ylabs = sample['source']\n",
    "    #ylabs = ylabs[::-1]\n",
    "    ax.set_yticklabels(ylabs, rotation=0)\n",
    "    ax.set_xticklabels(sample['sampled'], rotation=90)\n",
    "    ax.set_xlabel(\"Target Sentence\")\n",
    "    ax.set_ylabel(\"Source Sentence\\n\\n\")"
   ]
  },
  {
   "cell_type": "code",
   "execution_count": 8,
   "metadata": {},
   "outputs": [
    {
     "name": "stdout",
     "output_type": "stream",
     "text": [
      "MR GT: \n",
      "name[Alimentum], area[city centre], familyFriendly[yes], near[Burger King]\n",
      "------------------\n",
      "Input MR: \n",
      "['<inform>', 'name', 'x-name', '<inform>', 'area', 'city', 'centre', '<inform>', 'familyfriendly', 'yes', '<inform>', 'near', 'x-near']\n",
      "-------------------------\n",
      "Reference ground truth: \n",
      "Located Burger King in the city centre , Alimentum is family-friendly . \n",
      "---------------------------\n",
      "Sampled no delexicalization: \n",
      "Alimentum is a kid friendly restaurant located in Burger King in the city centre . \n",
      "---------------------------\n",
      "Sampled with delexicalization: \n",
      "x-name is a kid friendly restaurant located in x-near in the city centre . \n",
      "---------------------------\n",
      "tensor([48,  7, 56, 27, 83, 84, 21,  4, 34, 82, 13, 18,  3,  0,  0,  0,  0,  0,\n",
      "         0,  0,  0,  0,  0,  0,  0,  0,  0,  0,  0,  0,  0,  0,  0,  0,  0,  0,\n",
      "         0,  0,  0,  0,  0,  0,  0,  0,  0,  0,  0,  0,  0,  0,  0,  0,  0,  0,\n",
      "         0,  0,  0,  0,  0,  0,  0,  0,  0,  0,  0,  0,  0,  0,  0,  0,  0,  0,\n",
      "         0,  0], device='cuda:0')\n",
      "############################\n",
      "MR GT: \n",
      "name[Alimentum], area[city centre], familyFriendly[yes], near[Burger King]\n",
      "------------------\n",
      "Input MR: \n",
      "['<inform>', 'name', 'x-name', '<inform>', 'area', 'city', 'centre', '<inform>', 'familyfriendly', 'yes', '<inform>', 'near', 'x-near']\n",
      "-------------------------\n",
      "Reference ground truth: \n",
      "Alimentum , located near Burger King in the city centre , is family-friendly . \n",
      "---------------------------\n",
      "Sampled no delexicalization: \n",
      "Alimentum is located in the centre near Burger King . it is located near the city centre . \n",
      "---------------------------\n",
      "Sampled with delexicalization: \n",
      "x-name is located in the centre near x-near . it is located near the city centre . \n",
      "---------------------------\n",
      "tensor([ 4, 21, 48,  6,  7, 56, 27, 83, 84, 21, 34, 82, 13, 18,  3,  0,  0,  0,\n",
      "         0,  0,  0,  0,  0,  0,  0,  0,  0,  0,  0,  0,  0,  0,  0,  0,  0,  0,\n",
      "         0,  0,  0,  0,  0,  0,  0,  0,  0,  0,  0,  0,  0,  0,  0,  0,  0,  0,\n",
      "         0,  0,  0,  0,  0,  0,  0,  0,  0,  0,  0,  0,  0,  0,  0,  0,  0,  0,\n",
      "         0,  0], device='cuda:0')\n",
      "############################\n",
      "MR GT: \n",
      "name[Alimentum], area[city centre], familyFriendly[no], near[Burger King]\n",
      "------------------\n",
      "Input MR: \n",
      "['<inform>', 'name', 'x-name', '<inform>', 'area', 'city', 'centre', '<inform>', 'familyfriendly', 'no', '<inform>', 'near', 'x-near']\n",
      "-------------------------\n",
      "Reference ground truth: \n",
      "Near the Burger King and in the city centre is Alimentum , which is not family-friendly . \n",
      "---------------------------\n",
      "Sampled no delexicalization: \n",
      "Alimentum is located in the city centre near Burger King . it is not family-friendly . \n",
      "---------------------------\n",
      "Sampled with delexicalization: \n",
      "x-name is located in the city centre near x-near . it is not family-friendly . \n",
      "---------------------------\n",
      "tensor([  6,  27,   7,  39,  56,  27,  83,  84,  34,   4,  21, 122,  34,  81,\n",
      "         82,  13,  18,   3,   0,   0,   0,   0,   0,   0,   0,   0,   0,   0,\n",
      "          0,   0,   0,   0,   0,   0,   0,   0,   0,   0,   0,   0,   0,   0,\n",
      "          0,   0,   0,   0,   0,   0,   0,   0,   0,   0,   0,   0,   0,   0,\n",
      "          0,   0,   0,   0,   0,   0,   0,   0,   0,   0,   0,   0,   0,   0,\n",
      "          0,   0,   0,   0], device='cuda:0')\n",
      "############################\n"
     ]
    }
   ],
   "source": [
    "for result in all_results[:3]:\n",
    "    print(\"MR GT: \")\n",
    "    print(result[\"mrs_gt\"])\n",
    "    print(\"------------------\")\n",
    "    print(\"Input MR: \")\n",
    "    print(result[\"source\"])\n",
    "    print(\"-------------------------\")\n",
    "    print(\"Reference ground truth: \")\n",
    "    print(result[\"reference_gt\"])\n",
    "    print(\"---------------------------\")\n",
    "    print(\"Sampled no delexicalization: \")\n",
    "    print(result[\"sampled_normalized\"])\n",
    "    print(\"---------------------------\")\n",
    "    print(\"Sampled with delexicalization: \")\n",
    "    print(\" \".join(result[\"sampled\"]))\n",
    "    print(\"---------------------------\")\n",
    "    print(result[\"y_target\"])\n",
    "    print(\"############################\")\n"
   ]
  },
  {
   "cell_type": "code",
   "execution_count": 19,
   "metadata": {},
   "outputs": [
    {
     "data": {
      "text/plain": [
       "{'source': '<inform> name x-name <inform> area riverside <inform> familyfriendly yes',\n",
       " 'truth': 'the x-name is in the riverside area . it is a family friendly place . ',\n",
       " 'sampled': 'x-name is a friendly , is located in the riverside area . '}"
      ]
     },
     "execution_count": 19,
     "metadata": {},
     "output_type": "execute_result"
    }
   ],
   "source": [
    "def get_source_sentence(vectorizer, batch_dict, index):\n",
    "    indices = batch_dict['x_source'][index].cpu().data.numpy()\n",
    "    vocab = vectorizer.source_vocab\n",
    "    return sentence_from_indices(indices, vocab)\n",
    "\n",
    "def get_true_sentence(vectorizer, batch_dict, index):\n",
    "    return sentence_from_indices(batch_dict['y_target'].cpu().data.numpy()[index], vectorizer.target_vocab)\n",
    "    \n",
    "def get_sampled_sentence(vectorizer, batch_dict, index):\n",
    "    y_pred = model(x_source=batch_dict['x_source'], \n",
    "                   x_source_lengths=batch_dict['x_source_length'], \n",
    "                   target_sequence=batch_dict['x_target'], \n",
    "                   sample_probability=1.0)\n",
    "    return sentence_from_indices(torch.max(y_pred, dim=2)[1].cpu().data.numpy()[index], vectorizer.target_vocab)\n",
    "\n",
    "def get_all_sentences(vectorizer, batch_dict, index):\n",
    "    return {\"source\": get_source_sentence(vectorizer, batch_dict, index), \n",
    "            \"truth\": get_true_sentence(vectorizer, batch_dict, index), \n",
    "            \"sampled\": get_sampled_sentence(vectorizer, batch_dict, index)}\n",
    "    \n",
    "def sentence_from_indices(indices, vocab, strict=True):\n",
    "    ignore_indices = set([vocab.mask_index, vocab.begin_seq_index, vocab.end_seq_index])\n",
    "    out = []\n",
    "    for index in indices:\n",
    "        if index == vocab.begin_seq_index and strict:\n",
    "            continue\n",
    "        elif index == vocab.end_seq_index and strict:\n",
    "            return \" \".join(out)\n",
    "        else:\n",
    "            out.append(vocab.lookup_index(index))\n",
    "    return \" \".join(out)\n",
    "\n",
    "results = get_all_sentences(vectorizer, batch_dict, 30)\n",
    "results"
   ]
  },
  {
   "cell_type": "code",
   "execution_count": null,
   "metadata": {},
   "outputs": [],
   "source": []
  }
 ],
 "metadata": {
  "kernelspec": {
   "display_name": "Python 3",
   "language": "python",
   "name": "python3"
  },
  "language_info": {
   "codemirror_mode": {
    "name": "ipython",
    "version": 3
   },
   "file_extension": ".py",
   "mimetype": "text/x-python",
   "name": "python",
   "nbconvert_exporter": "python",
   "pygments_lexer": "ipython3",
   "version": "3.6.8"
  }
 },
 "nbformat": 4,
 "nbformat_minor": 2
}
