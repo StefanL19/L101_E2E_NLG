{
 "cells": [
  {
   "cell_type": "code",
   "execution_count": 2,
   "metadata": {},
   "outputs": [],
   "source": [
    "import pandas as pd\n",
    "import collections\n",
    "import matplotlib.pyplot as plt"
   ]
  },
  {
   "cell_type": "code",
   "execution_count": 6,
   "metadata": {},
   "outputs": [],
   "source": [
    "df = pd.read_csv(\"data/e2e-dataset/trainset.csv\")"
   ]
  },
  {
   "cell_type": "code",
   "execution_count": 25,
   "metadata": {},
   "outputs": [
    {
     "name": "stdout",
     "output_type": "stream",
     "text": [
      "Frequency of the elements in the List :  Counter({'italian': 82, 'fast food': 80, 'french': 79, 'english': 78, 'indian': 77, 'japanese': 76, 'chinese': 74})\n"
     ]
    }
   ],
   "source": [
    "# Report Statistics about food values\n",
    "all_food_values = []\n",
    "for index, row in df.iterrows():\n",
    "    mr = row[0].lower()\n",
    "    mr_parts = mr.split(\",\")\n",
    "    for mr_part in mr_parts:\n",
    "        mr_part = mr_part.strip(\"]\")\n",
    "        current_mr = mr_part.split(\"[\")[0].strip()\n",
    "        if current_mr == \"food\":\n",
    "            all_food_values.append(mr_part.split(\"[\")[1])\n",
    "\n",
    "ctr = collections.Counter(all_food_values)\n",
    "print(\"Frequency of the elements in the List : \",ctr)"
   ]
  },
  {
   "cell_type": "code",
   "execution_count": 21,
   "metadata": {},
   "outputs": [
    {
     "name": "stdout",
     "output_type": "stream",
     "text": [
      "The shape of the dataframe is:  (42061, 2)\n",
      "42061\n"
     ]
    }
   ],
   "source": [
    "# Check how many of the sentences in the training set end with a dot\n",
    "shape = df.shape\n",
    "print(\"The shape of the dataframe is: \", shape)\n",
    "\n",
    "correct_ending = 0\n",
    "for index, row in df.iterrows():\n",
    "    utt = row[1]\n",
    "    if utt[-1] == \",\":\n",
    "        utt = utt[:-1]+\".\"\n",
    "    elif utt[-1] == \"!\":\n",
    "        utt = utt[:-1]+\".\"\n",
    "    elif utt[-1] == \" \":\n",
    "        utt = utt[:-1]+\".\"\n",
    "    elif utt[-1] in \"0123456789abcdefghijklmnopqrstuvwxyzéABCDEFGHIJKLMNOPQRSTUVWXYZ'\":\n",
    "        utt += \".\"\n",
    "    \n",
    "    if utt[-1] == \".\":\n",
    "        correct_ending += 1\n",
    "    else:\n",
    "        print(utt)\n",
    "        \n",
    "print(correct_ending)"
   ]
  },
  {
   "cell_type": "code",
   "execution_count": 13,
   "metadata": {},
   "outputs": [
    {
     "data": {
      "text/plain": [
       "(42061, 2)"
      ]
     },
     "execution_count": 13,
     "metadata": {},
     "output_type": "execute_result"
    }
   ],
   "source": [
    "df.shape"
   ]
  },
  {
   "cell_type": "code",
   "execution_count": 68,
   "metadata": {},
   "outputs": [
    {
     "name": "stdout",
     "output_type": "stream",
     "text": [
      "name[The Vaults]\n",
      " eatType[pub]\n",
      " priceRange[more than £30]\n",
      " customer rating[5 out of 5]\n",
      " near[Café Adriatic]\n",
      "['name', 'eatType', 'priceRange', 'customer rating', 'near']\n",
      "name[The Cambridge Blue]\n",
      " eatType[pub]\n",
      " food[English]\n",
      " priceRange[cheap]\n",
      " near[Café Brazil]\n",
      "['name', 'eatType', 'food', 'priceRange', 'near']\n",
      "name[The Eagle]\n",
      " eatType[coffee shop]\n",
      " food[Japanese]\n",
      " priceRange[less than £20]\n",
      " customer rating[low]\n",
      " area[riverside]\n",
      " familyFriendly[yes]\n",
      " near[Burger King]\n",
      "['name', 'eatType', 'food', 'priceRange', 'customer rating', 'area', 'familyFriendly', 'near']\n",
      "name[The Mill]\n",
      " eatType[coffee shop]\n",
      " food[French]\n",
      " priceRange[£20-25]\n",
      " area[riverside]\n",
      " near[The Sorrento]\n",
      "['name', 'eatType', 'food', 'priceRange', 'area', 'near']\n",
      "name[Loch Fyne]\n",
      " food[French]\n",
      " customer rating[high]\n",
      " area[riverside]\n",
      " near[The Rice Boat]\n",
      "['name', 'food', 'customer rating', 'area', 'near']\n"
     ]
    }
   ],
   "source": [
    "all_mrs = []\n",
    "is_eatType = []\n",
    "is_priceRange = []\n",
    "is_customer_rating = []\n",
    "is_near = []\n",
    "is_food = []\n",
    "is_area = []\n",
    "is_family_friendly = []\n",
    "\n",
    "for index, row in df[:5].iterrows():\n",
    "    mr = row[\"mr\"]\n",
    "    mr_parts = mr.split(\",\")\n",
    "    \n",
    "    entry_mrs = []\n",
    "    for mr_part in mr_parts:\n",
    "        print(mr_part)\n",
    "        current_mr = mr_part.split(\"[\")[0].strip()\n",
    "        entry_mrs.append(current_mr)\n",
    "    print(entry_mrs)\n",
    "    if \"eatType\" in entry_mrs:\n",
    "        is_eatType.append(1)\n",
    "    else:\n",
    "        is_eatType.append(0)\n",
    "    \n",
    "    if \"priceRange\" in entry_mrs:\n",
    "        is_priceRange.append(1)\n",
    "    else:\n",
    "        is_priceRange.append(0)\n",
    "    \n",
    "    if \"customer rating\" in entry_mrs:\n",
    "        is_customer_rating.append(1)\n",
    "    else:\n",
    "        is_customer_rating.append(0)\n",
    "    \n",
    "    if \"near\" in entry_mrs:\n",
    "        is_near.append(1)\n",
    "    else:\n",
    "        is_near.append(0)\n",
    "    \n",
    "    if \"food\" in entry_mrs:\n",
    "        is_food.append(1)\n",
    "    else:\n",
    "        is_food.append(0)\n",
    "    \n",
    "    if \"area\" in entry_mrs:\n",
    "        is_area.append(1)\n",
    "    else:\n",
    "        is_area.append(0)\n",
    "    \n",
    "    if \"familyFriendly\" in entry_mrs:\n",
    "        is_family_friendly.append(1)\n",
    "    else:\n",
    "        is_family_friendly.append(0)\n",
    "\n",
    "    \n",
    "        all_mrs += entry_mrs\n",
    "        "
   ]
  },
  {
   "cell_type": "code",
   "execution_count": 61,
   "metadata": {},
   "outputs": [],
   "source": [
    "ctr = collections.Counter(all_mrs)"
   ]
  },
  {
   "cell_type": "code",
   "execution_count": 65,
   "metadata": {},
   "outputs": [],
   "source": [
    "df['is_eatType'] = is_eatType\n",
    "df['is_priceRange'] = is_priceRange\n",
    "df['is_customer_rating'] = is_customer_rating\n",
    "df['is_area'] = is_area\n",
    "df['is_familyFriendly'] = is_family_friendly\n",
    "df['is_food'] = is_food\n",
    "df['is_near'] = is_near\n"
   ]
  },
  {
   "cell_type": "code",
   "execution_count": 66,
   "metadata": {},
   "outputs": [
    {
     "data": {
      "text/html": [
       "<div>\n",
       "<style scoped>\n",
       "    .dataframe tbody tr th:only-of-type {\n",
       "        vertical-align: middle;\n",
       "    }\n",
       "\n",
       "    .dataframe tbody tr th {\n",
       "        vertical-align: top;\n",
       "    }\n",
       "\n",
       "    .dataframe thead th {\n",
       "        text-align: right;\n",
       "    }\n",
       "</style>\n",
       "<table border=\"1\" class=\"dataframe\">\n",
       "  <thead>\n",
       "    <tr style=\"text-align: right;\">\n",
       "      <th></th>\n",
       "      <th>is_eatType</th>\n",
       "      <th>is_priceRange</th>\n",
       "      <th>is_customer_rating</th>\n",
       "      <th>is_area</th>\n",
       "      <th>is_familyFriendly</th>\n",
       "      <th>is_food</th>\n",
       "      <th>is_near</th>\n",
       "    </tr>\n",
       "  </thead>\n",
       "  <tbody>\n",
       "    <tr>\n",
       "      <th>is_eatType</th>\n",
       "      <td>1.000000</td>\n",
       "      <td>-0.051235</td>\n",
       "      <td>-0.026165</td>\n",
       "      <td>-0.041255</td>\n",
       "      <td>-0.014223</td>\n",
       "      <td>-0.101600</td>\n",
       "      <td>-0.027407</td>\n",
       "    </tr>\n",
       "    <tr>\n",
       "      <th>is_priceRange</th>\n",
       "      <td>-0.051235</td>\n",
       "      <td>1.000000</td>\n",
       "      <td>-0.054166</td>\n",
       "      <td>0.032583</td>\n",
       "      <td>-0.035882</td>\n",
       "      <td>-0.126841</td>\n",
       "      <td>0.019997</td>\n",
       "    </tr>\n",
       "    <tr>\n",
       "      <th>is_customer_rating</th>\n",
       "      <td>-0.026165</td>\n",
       "      <td>-0.054166</td>\n",
       "      <td>1.000000</td>\n",
       "      <td>0.030013</td>\n",
       "      <td>-0.040965</td>\n",
       "      <td>-0.054079</td>\n",
       "      <td>-0.004285</td>\n",
       "    </tr>\n",
       "    <tr>\n",
       "      <th>is_area</th>\n",
       "      <td>-0.041255</td>\n",
       "      <td>0.032583</td>\n",
       "      <td>0.030013</td>\n",
       "      <td>1.000000</td>\n",
       "      <td>0.012218</td>\n",
       "      <td>0.019675</td>\n",
       "      <td>-0.010174</td>\n",
       "    </tr>\n",
       "    <tr>\n",
       "      <th>is_familyFriendly</th>\n",
       "      <td>-0.014223</td>\n",
       "      <td>-0.035882</td>\n",
       "      <td>-0.040965</td>\n",
       "      <td>0.012218</td>\n",
       "      <td>1.000000</td>\n",
       "      <td>0.013303</td>\n",
       "      <td>-0.005758</td>\n",
       "    </tr>\n",
       "    <tr>\n",
       "      <th>is_food</th>\n",
       "      <td>-0.101600</td>\n",
       "      <td>-0.126841</td>\n",
       "      <td>-0.054079</td>\n",
       "      <td>0.019675</td>\n",
       "      <td>0.013303</td>\n",
       "      <td>1.000000</td>\n",
       "      <td>-0.012995</td>\n",
       "    </tr>\n",
       "    <tr>\n",
       "      <th>is_near</th>\n",
       "      <td>-0.027407</td>\n",
       "      <td>0.019997</td>\n",
       "      <td>-0.004285</td>\n",
       "      <td>-0.010174</td>\n",
       "      <td>-0.005758</td>\n",
       "      <td>-0.012995</td>\n",
       "      <td>1.000000</td>\n",
       "    </tr>\n",
       "  </tbody>\n",
       "</table>\n",
       "</div>"
      ],
      "text/plain": [
       "                    is_eatType  is_priceRange  is_customer_rating   is_area  \\\n",
       "is_eatType            1.000000      -0.051235           -0.026165 -0.041255   \n",
       "is_priceRange        -0.051235       1.000000           -0.054166  0.032583   \n",
       "is_customer_rating   -0.026165      -0.054166            1.000000  0.030013   \n",
       "is_area              -0.041255       0.032583            0.030013  1.000000   \n",
       "is_familyFriendly    -0.014223      -0.035882           -0.040965  0.012218   \n",
       "is_food              -0.101600      -0.126841           -0.054079  0.019675   \n",
       "is_near              -0.027407       0.019997           -0.004285 -0.010174   \n",
       "\n",
       "                    is_familyFriendly   is_food   is_near  \n",
       "is_eatType                  -0.014223 -0.101600 -0.027407  \n",
       "is_priceRange               -0.035882 -0.126841  0.019997  \n",
       "is_customer_rating          -0.040965 -0.054079 -0.004285  \n",
       "is_area                      0.012218  0.019675 -0.010174  \n",
       "is_familyFriendly            1.000000  0.013303 -0.005758  \n",
       "is_food                      0.013303  1.000000 -0.012995  \n",
       "is_near                     -0.005758 -0.012995  1.000000  "
      ]
     },
     "execution_count": 66,
     "metadata": {},
     "output_type": "execute_result"
    }
   ],
   "source": [
    "df.corr()"
   ]
  },
  {
   "cell_type": "code",
   "execution_count": 35,
   "metadata": {},
   "outputs": [
    {
     "data": {
      "text/plain": [
       "Counter({'name': 42061,\n",
       "         ' eatType': 20111,\n",
       "         ' priceRange': 29127,\n",
       "         ' customer rating': 28090,\n",
       "         ' near': 20546,\n",
       "         ' food': 35126,\n",
       "         ' area': 24716,\n",
       "         ' familyFriendly': 26295})"
      ]
     },
     "execution_count": 35,
     "metadata": {},
     "output_type": "execute_result"
    }
   ],
   "source": [
    "ctr"
   ]
  },
  {
   "cell_type": "code",
   "execution_count": 36,
   "metadata": {},
   "outputs": [
    {
     "data": {
      "image/png": "[encoded data removed]",
      "text/plain": [
       "<Figure size 432x288 with 1 Axes>"
      ]
     },
     "metadata": {
      "needs_background": "light"
     },
     "output_type": "display_data"
    }
   ],
   "source": [
    "fig, ax = plt.subplots()\n",
    "ax.bar(ctr.keys(), ctr.values())\n",
    "\n",
    "plt.xticks(rotation=45)\n"
   ]
  },
  {
   "cell_type": "code",
   "execution_count": null,
   "metadata": {},
   "outputs": [],
   "source": []
  }
 ],
 "metadata": {
  "kernelspec": {
   "display_name": "Python 3",
   "language": "python",
   "name": "python3"
  },
  "language_info": {
   "codemirror_mode": {
    "name": "ipython",
    "version": 3
   },
   "file_extension": ".py",
   "mimetype": "text/x-python",
   "name": "python",
   "nbconvert_exporter": "python",
   "pygments_lexer": "ipython3",
   "version": "3.6.8"
  }
 },
 "nbformat": 4,
 "nbformat_minor": 2
}
